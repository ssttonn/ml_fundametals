{
 "cells": [
  {
   "cell_type": "code",
   "execution_count": 2,
   "id": "initial_id",
   "metadata": {
    "ExecuteTime": {
     "end_time": "2024-01-14T07:03:55.343792Z",
     "start_time": "2024-01-14T07:03:55.291311Z"
    }
   },
   "outputs": [
    {
     "ename": "SyntaxError",
     "evalue": "invalid syntax (3590900864.py, line 4)",
     "output_type": "error",
     "traceback": [
      "\u001b[0;36m  Cell \u001b[0;32mIn[2], line 4\u001b[0;36m\u001b[0m\n\u001b[0;31m    from \"../helper_functions.py\" import plot_learning_curve\u001b[0m\n\u001b[0m         ^\u001b[0m\n\u001b[0;31mSyntaxError\u001b[0m\u001b[0;31m:\u001b[0m invalid syntax\n"
     ]
    }
   ],
   "source": [
    "import pandas as pd\n",
    "import numpy as np\n",
    "from linear_regression_utils import linear_regression_model, predict, plt_gradients, cost_function\n",
    "from helper_functions import plot_learning_curve\n",
    "import matplotlib.pyplot as plt\n",
    "import seaborn as sns\n",
    "from sklearn.model_selection import train_test_split\n",
    "sns.set_theme()"
   ]
  },
  {
   "cell_type": "code",
   "execution_count": null,
   "id": "e72c93bf96534742",
   "metadata": {
    "ExecuteTime": {
     "end_time": "2024-01-14T07:03:55.353175Z",
     "start_time": "2024-01-14T07:03:55.344139Z"
    },
    "collapsed": false,
    "jupyter": {
     "outputs_hidden": false
    }
   },
   "outputs": [],
   "source": [
    "salary = pd.read_csv(\"dataset/Experience-Salary.csv\")\n",
    "salary"
   ]
  },
  {
   "cell_type": "code",
   "execution_count": null,
   "id": "80b220b01ad9b1a7",
   "metadata": {
    "ExecuteTime": {
     "end_time": "2024-01-14T07:03:55.353914Z",
     "start_time": "2024-01-14T07:03:55.351904Z"
    },
    "collapsed": false,
    "jupyter": {
     "outputs_hidden": false
    }
   },
   "outputs": [],
   "source": [
    "salary.corr()[\"salary(in thousands)\"]"
   ]
  },
  {
   "cell_type": "code",
   "execution_count": null,
   "id": "858d7b6d2c2348b0",
   "metadata": {
    "ExecuteTime": {
     "end_time": "2024-01-14T07:10:41.275741Z",
     "start_time": "2024-01-14T07:10:41.149551Z"
    },
    "collapsed": false,
    "jupyter": {
     "outputs_hidden": false
    }
   },
   "outputs": [],
   "source": [
    "fig = plt.figure(figsize=(18, 8))\n",
    "plt.scatter(data=salary,x=\"exp(in months)\", y=\"salary(in thousands)\", color=\"yellow\", marker=\"x\", label=\"salary(in thousands)\")"
   ]
  },
  {
   "cell_type": "code",
   "execution_count": null,
   "id": "be7a2d3fa1884e8e",
   "metadata": {
    "ExecuteTime": {
     "end_time": "2024-01-14T07:03:55.530388Z",
     "start_time": "2024-01-14T07:03:55.502948Z"
    },
    "collapsed": false,
    "jupyter": {
     "outputs_hidden": false
    }
   },
   "outputs": [],
   "source": [
    "X = salary.iloc[:, :1]\n",
    "y = salary.iloc[:, -1]"
   ]
  },
  {
   "cell_type": "code",
   "execution_count": null,
   "id": "fa7e6e22f4918cac",
   "metadata": {
    "ExecuteTime": {
     "end_time": "2024-01-14T07:03:55.530659Z",
     "start_time": "2024-01-14T07:03:55.518987Z"
    },
    "collapsed": false,
    "jupyter": {
     "outputs_hidden": false
    }
   },
   "outputs": [],
   "source": [
    "X"
   ]
  },
  {
   "cell_type": "code",
   "execution_count": null,
   "id": "35748a82328dcbf9",
   "metadata": {
    "ExecuteTime": {
     "end_time": "2024-01-14T07:03:55.531011Z",
     "start_time": "2024-01-14T07:03:55.524129Z"
    },
    "collapsed": false,
    "jupyter": {
     "outputs_hidden": false
    }
   },
   "outputs": [],
   "source": [
    "y"
   ]
  },
  {
   "cell_type": "code",
   "execution_count": null,
   "id": "fde978c3db66f693",
   "metadata": {
    "ExecuteTime": {
     "end_time": "2024-01-14T07:03:55.662102Z",
     "start_time": "2024-01-14T07:03:55.526796Z"
    },
    "collapsed": false,
    "jupyter": {
     "outputs_hidden": false
    }
   },
   "outputs": [],
   "source": [
    "X_train, X_test, y_train, y_test = train_test_split(X, y, test_size=0.2, random_state=42)\n",
    "plt_gradients(X_train, y_train, cost_function, w_start=-30, w_end=30, w_step=100, b_value=0)"
   ]
  },
  {
   "cell_type": "code",
   "execution_count": null,
   "id": "25e7744055a6c52a",
   "metadata": {
    "ExecuteTime": {
     "end_time": "2024-01-14T07:05:24.877244Z",
     "start_time": "2024-01-14T07:05:19.583145Z"
    },
    "collapsed": false,
    "jupyter": {
     "outputs_hidden": false
    }
   },
   "outputs": [],
   "source": [
    "# Simple gradient descent to find w and b\n",
    "result = linear_regression_model(X_train, y_train, X_test, y_test, learning_rate=0.00265, print_cost=True, num_iterations=40000)\n",
    "new_w = result[\"w\"]\n",
    "new_b = result[\"b\"]"
   ]
  },
  {
   "cell_type": "code",
   "execution_count": null,
   "id": "6ef86ada52cc48f2",
   "metadata": {
    "ExecuteTime": {
     "end_time": "2024-01-14T07:05:26.190030Z",
     "start_time": "2024-01-14T07:05:26.092663Z"
    },
    "collapsed": false,
    "jupyter": {
     "outputs_hidden": false
    }
   },
   "outputs": [],
   "source": [
    "plot_learning_curve(result[\"cost_history\"], result[\"learning_rate\"])"
   ]
  },
  {
   "cell_type": "code",
   "execution_count": null,
   "id": "6e44ff8521241484",
   "metadata": {
    "ExecuteTime": {
     "end_time": "2024-01-14T07:07:25.170098Z",
     "start_time": "2024-01-14T07:07:25.145441Z"
    },
    "collapsed": false,
    "jupyter": {
     "outputs_hidden": false
    }
   },
   "outputs": [],
   "source": [
    "print(f\"Coefficients: {new_w}\")\n",
    "print(f\"Intercept: {new_b}\")\n",
    "print(f\"Form of Simple Linear Regression: f(x) = {new_w[0]} * x + {new_b}\")"
   ]
  },
  {
   "cell_type": "code",
   "execution_count": null,
   "id": "d5de641f7735c6fb",
   "metadata": {
    "ExecuteTime": {
     "end_time": "2024-01-14T07:05:27.718976Z",
     "start_time": "2024-01-14T07:05:27.649804Z"
    },
    "collapsed": false,
    "jupyter": {
     "outputs_hidden": false
    }
   },
   "outputs": [],
   "source": [
    "plt.scatter(x=X_train, y=y_train, c=\"yellow\", marker=\"x\")\n",
    "plt.plot(X_train, predict(X_train, new_w, new_b), linewidth=3, color=\"red\")\n",
    "plt.show()"
   ]
  },
  {
   "cell_type": "code",
   "execution_count": null,
   "id": "6805b32d89b62070",
   "metadata": {
    "ExecuteTime": {
     "end_time": "2024-01-14T07:05:29.690662Z",
     "start_time": "2024-01-14T07:05:29.634373Z"
    },
    "collapsed": false,
    "jupyter": {
     "outputs_hidden": false
    }
   },
   "outputs": [],
   "source": [
    "plt.scatter(x=X_test, y=y_test, c=\"yellow\", marker=\"x\")\n",
    "plt.plot(X_test, predict(X_test, new_w, new_b), linewidth=3, color=\"red\")\n",
    "plt.show()"
   ]
  },
  {
   "cell_type": "markdown",
   "id": "991a3e1872e6c45e",
   "metadata": {
    "collapsed": false,
    "jupyter": {
     "outputs_hidden": false
    }
   },
   "source": []
  },
  {
   "cell_type": "code",
   "execution_count": null,
   "id": "8ce55175d27d7450",
   "metadata": {
    "ExecuteTime": {
     "end_time": "2024-01-14T07:03:56.042503Z",
     "start_time": "2024-01-14T07:03:56.039279Z"
    },
    "collapsed": false,
    "jupyter": {
     "outputs_hidden": false
    }
   },
   "outputs": [],
   "source": []
  },
  {
   "cell_type": "code",
   "execution_count": null,
   "id": "17fb8b52f9990734",
   "metadata": {
    "ExecuteTime": {
     "end_time": "2024-01-14T07:03:56.045133Z",
     "start_time": "2024-01-14T07:03:56.041729Z"
    },
    "collapsed": false,
    "jupyter": {
     "outputs_hidden": false
    }
   },
   "outputs": [],
   "source": []
  },
  {
   "cell_type": "code",
   "execution_count": null,
   "id": "e2f818a11453c8e4",
   "metadata": {
    "ExecuteTime": {
     "end_time": "2024-01-14T07:03:56.047748Z",
     "start_time": "2024-01-14T07:03:56.044643Z"
    },
    "collapsed": false,
    "jupyter": {
     "outputs_hidden": false
    }
   },
   "outputs": [],
   "source": []
  }
 ],
 "metadata": {
  "kernelspec": {
   "display_name": "Python 3 (ipykernel)",
   "language": "python",
   "name": "python3"
  },
  "language_info": {
   "codemirror_mode": {
    "name": "ipython",
    "version": 3
   },
   "file_extension": ".py",
   "mimetype": "text/x-python",
   "name": "python",
   "nbconvert_exporter": "python",
   "pygments_lexer": "ipython3",
   "version": "3.11.4"
  }
 },
 "nbformat": 4,
 "nbformat_minor": 5
}
