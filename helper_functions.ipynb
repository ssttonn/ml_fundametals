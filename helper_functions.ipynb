{
 "cells": [
  {
   "cell_type": "code",
   "execution_count": 17,
   "id": "initial_id",
   "metadata": {
    "collapsed": true,
    "ExecuteTime": {
     "end_time": "2023-12-25T05:45:45.928234Z",
     "start_time": "2023-12-25T05:45:45.916201Z"
    }
   },
   "outputs": [],
   "source": [
    "import numpy as np"
   ]
  },
  {
   "cell_type": "code",
   "execution_count": 28,
   "outputs": [],
   "source": [
    "# Calculate the difference between predicted value and actual value, output a vector with m rows\n",
    "def residual(X, w, b, y):\n",
    "    return linear_regression(X, w, b) - y"
   ],
   "metadata": {
    "collapsed": false,
    "ExecuteTime": {
     "end_time": "2023-12-25T05:51:47.462354Z",
     "start_time": "2023-12-25T05:51:47.460243Z"
    }
   },
   "id": "5387626faea73775"
  },
  {
   "cell_type": "markdown",
   "source": [
    "Linear regression formula:\n",
    "$$f_{w,b}(x^{(i)}) = wx^{(i)} + b $$"
   ],
   "metadata": {
    "collapsed": false
   },
   "id": "8ffc4f55e87947d1"
  },
  {
   "cell_type": "code",
   "execution_count": 29,
   "outputs": [],
   "source": [
    "# Linear regression formula, output vector with m rows\n",
    "def linear_regression(X, w, b):\n",
    "    return np.dot(X, w.T) + b"
   ],
   "metadata": {
    "collapsed": false,
    "ExecuteTime": {
     "end_time": "2023-12-25T05:51:49.290370Z",
     "start_time": "2023-12-25T05:51:49.286182Z"
    }
   },
   "id": "a64da5a1271ab825"
  },
  {
   "cell_type": "markdown",
   "source": [
    "Cost function for linear regression formula:\n",
    "$$J(w,b) = \\frac{1}{2m} \\sum\\limits_{i = 0}^{m-1} (f_{w,b}(x^{(i)}) - y^{(i)})^2$$ "
   ],
   "metadata": {
    "collapsed": false
   },
   "id": "73f45a30d58a00fd"
  },
  {
   "cell_type": "code",
   "execution_count": 30,
   "outputs": [],
   "source": [
    "# Cost function formula, output a number\n",
    "def cost_function(X, w, b, y):\n",
    "    m = X.shape[0]\n",
    "    return np.sum(residual(X, w, b, y) ** 2) / (2 * m)"
   ],
   "metadata": {
    "collapsed": false,
    "ExecuteTime": {
     "end_time": "2023-12-25T05:51:49.675332Z",
     "start_time": "2023-12-25T05:51:49.671714Z"
    }
   },
   "id": "2b28942c550f2bd8"
  },
  {
   "cell_type": "code",
   "execution_count": 56,
   "outputs": [
    {
     "data": {
      "text/plain": "(array([ 95.5, 125. , 154.5]), 29.5)"
     },
     "execution_count": 56,
     "metadata": {},
     "output_type": "execute_result"
    }
   ],
   "source": [
    "def compute_gradient(X, w, b, y):\n",
    "    m, n = X.shape\n",
    "    dj_dw = np.zeros((n,))\n",
    "    dj_db = 0\n",
    "    dj_dw += np.sum(residual(X, w, b, y) * X.T, axis=1)\n",
    "    dj_db += np.sum(residual(X, w, b, y))\n",
    "    dj_dw /= m\n",
    "    dj_db /= m\n",
    "    return dj_dw, dj_db\n",
    "\n",
    "compute_gradient(np.array([[1,2,3], [4,5,6]]), np.array([2,2,3]), 10, [10,2])"
   ],
   "metadata": {
    "collapsed": false,
    "ExecuteTime": {
     "end_time": "2023-12-25T06:07:36.039762Z",
     "start_time": "2023-12-25T06:07:36.034905Z"
    }
   },
   "id": "d460337279f7a229"
  },
  {
   "cell_type": "code",
   "execution_count": 78,
   "outputs": [],
   "source": [
    "def gradient_descent(X, w, b, y, number_of_iterations, alpha):\n",
    "    temp_w = w.copy()\n",
    "    temp_b = b\n",
    "    for _ in range(number_of_iterations):\n",
    "        dj_dw, dj_db = compute_gradient(X, temp_w, temp_b, y)\n",
    "        temp_w -= dj_dw * alpha\n",
    "        temp_b -= dj_db * alpha\n",
    "        print(cost_function(X, temp_w, temp_b, y))\n",
    "    \n",
    "    return temp_w, temp_b"
   ],
   "metadata": {
    "collapsed": false,
    "ExecuteTime": {
     "end_time": "2023-12-25T06:17:06.298529Z",
     "start_time": "2023-12-25T06:17:06.293723Z"
    }
   },
   "id": "215cebcd7bd22ffc"
  },
  {
   "cell_type": "code",
   "execution_count": 65,
   "outputs": [],
   "source": [],
   "metadata": {
    "collapsed": false,
    "ExecuteTime": {
     "end_time": "2023-12-25T06:13:37.151891Z",
     "start_time": "2023-12-25T06:13:37.134546Z"
    }
   },
   "id": "6f2e3e8f74638b0a"
  },
  {
   "cell_type": "code",
   "execution_count": null,
   "outputs": [],
   "source": [],
   "metadata": {
    "collapsed": false
   },
   "id": "d39304d39ea34fc0"
  }
 ],
 "metadata": {
  "kernelspec": {
   "display_name": "Python 3",
   "language": "python",
   "name": "python3"
  },
  "language_info": {
   "codemirror_mode": {
    "name": "ipython",
    "version": 2
   },
   "file_extension": ".py",
   "mimetype": "text/x-python",
   "name": "python",
   "nbconvert_exporter": "python",
   "pygments_lexer": "ipython2",
   "version": "2.7.6"
  }
 },
 "nbformat": 4,
 "nbformat_minor": 5
}
