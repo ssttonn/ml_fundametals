{
   "cells": [
      {
         "cell_type": "code",
         "execution_count": 6,
         "id": "initial_id",
         "metadata": {
            "collapsed": true,
            "ExecuteTime": {
               "end_time": "2024-01-07T10:18:30.553864Z",
               "start_time": "2024-01-07T10:18:30.545849Z"
            }
         },
         "outputs": [],
         "source": [
            "from lr_utils import *\n",
            "from helper_functions import plot_learning_curve\n",
            "import pickle\n",
            "import json\n",
            "import pandas as pd\n",
            "from PIL import Image\n",
            "import os"
         ]
      },
      {
         "cell_type": "code",
         "outputs": [],
         "source": [
            "train_set_x_orig, train_set_y, test_set_x_orig, test_set_y, classes = load_dataset()"
         ],
         "metadata": {
            "collapsed": false,
            "ExecuteTime": {
               "end_time": "2024-01-07T10:18:32.866321Z",
               "start_time": "2024-01-07T10:18:32.855848Z"
            }
         },
         "id": "1b7b13b8b0829d65",
         "execution_count": 7
      },
      {
         "cell_type": "code",
         "outputs": [],
         "source": [
            "train_set_x = train_set_x_orig.reshape(train_set_x_orig.shape[0], -1).T\n",
            "test_set_x = test_set_x_orig.reshape(test_set_x_orig.shape[0], -1).T"
         ],
         "metadata": {
            "collapsed": false,
            "ExecuteTime": {
               "end_time": "2024-01-07T10:18:33.741414Z",
               "start_time": "2024-01-07T10:18:33.734956Z"
            }
         },
         "id": "51a8ca76173908c2",
         "execution_count": 8
      },
      {
         "cell_type": "code",
         "outputs": [],
         "source": [
            "train_set_x = train_set_x / 255.0\n",
            "test_set_x = test_set_x / 255.0"
         ],
         "metadata": {
            "collapsed": false,
            "ExecuteTime": {
               "end_time": "2024-01-07T10:18:34.408387Z",
               "start_time": "2024-01-07T10:18:34.394431Z"
            }
         },
         "id": "a2b127eee858240a",
         "execution_count": 9
      },
      {
         "cell_type": "code",
         "outputs": [
            {
               "ename": "EOFError",
               "evalue": "Ran out of input",
               "output_type": "error",
               "traceback": [
                  "\u001B[0;31m---------------------------------------------------------------------------\u001B[0m",
                  "\u001B[0;31mEOFError\u001B[0m                                  Traceback (most recent call last)",
                  "Cell \u001B[0;32mIn[5], line 14\u001B[0m\n\u001B[1;32m     11\u001B[0m         pickle\u001B[38;5;241m.\u001B[39mdump(result, file_pi)\n\u001B[1;32m     12\u001B[0m     \u001B[38;5;28;01mreturn\u001B[39;00m train_result\n\u001B[0;32m---> 14\u001B[0m result \u001B[38;5;241m=\u001B[39m \u001B[43mtrain_model\u001B[49m\u001B[43m(\u001B[49m\u001B[43mforce_retrain\u001B[49m\u001B[38;5;241;43m=\u001B[39;49m\u001B[38;5;28;43;01mFalse\u001B[39;49;00m\u001B[43m)\u001B[49m\n",
                  "Cell \u001B[0;32mIn[5], line 7\u001B[0m, in \u001B[0;36mtrain_model\u001B[0;34m(force_retrain)\u001B[0m\n\u001B[1;32m      5\u001B[0m \u001B[38;5;28;01mtry\u001B[39;00m:\n\u001B[1;32m      6\u001B[0m     \u001B[38;5;28;01mwith\u001B[39;00m \u001B[38;5;28mopen\u001B[39m(\u001B[38;5;124m'\u001B[39m\u001B[38;5;124m./train_results/train_history.txt\u001B[39m\u001B[38;5;124m'\u001B[39m, \u001B[38;5;124m\"\u001B[39m\u001B[38;5;124mrb\u001B[39m\u001B[38;5;124m\"\u001B[39m) \u001B[38;5;28;01mas\u001B[39;00m file_pi:\n\u001B[0;32m----> 7\u001B[0m         train_result \u001B[38;5;241m=\u001B[39m \u001B[43mpickle\u001B[49m\u001B[38;5;241;43m.\u001B[39;49m\u001B[43mload\u001B[49m\u001B[43m(\u001B[49m\u001B[43mfile_pi\u001B[49m\u001B[43m)\u001B[49m\n\u001B[1;32m      8\u001B[0m \u001B[38;5;28;01mexcept\u001B[39;00m \u001B[38;5;167;01mFileNotFoundError\u001B[39;00m:\n\u001B[1;32m      9\u001B[0m     train_result \u001B[38;5;241m=\u001B[39m neural_network_logistic_model(train_set_x, train_set_y, test_set_x, test_set_y, learning_rate\u001B[38;5;241m=\u001B[39m\u001B[38;5;241m0.005\u001B[39m, num_iterations\u001B[38;5;241m=\u001B[39m\u001B[38;5;241m300000\u001B[39m, print_cost\u001B[38;5;241m=\u001B[39m\u001B[38;5;28;01mTrue\u001B[39;00m)\n",
                  "\u001B[0;31mEOFError\u001B[0m: Ran out of input"
               ]
            }
         ],
         "source": [
            "def train_model(force_retrain=False):\n",
            "    if force_retrain:\n",
            "        train_result = neural_network_logistic_model(train_set_x, train_set_y, test_set_x, test_set_y, learning_rate=0.005, num_iterations=100000, print_cost=True)\n",
            "    else:\n",
            "        try:\n",
            "            with open('./train_results/train_result', \"rb\") as file_pi:\n",
            "                train_result = pickle.load(file_pi)\n",
            "        except FileNotFoundError:\n",
            "            train_result = neural_network_logistic_model(train_set_x, train_set_y, test_set_x, test_set_y, learning_rate=0.005, num_iterations=100000, print_cost=True)\n",
            "    with open('./train_results/train_result', 'wb') as file_pi:\n",
            "        pickle.dump(train_result, file_pi)\n",
            "    return train_result\n",
            "\n",
            "result = train_model(force_retrain=False)"
         ],
         "metadata": {
            "collapsed": false,
            "ExecuteTime": {
               "end_time": "2024-01-07T10:18:21.924164Z",
               "start_time": "2024-01-07T10:18:21.726112Z"
            }
         },
         "id": "7292a14748d20d84",
         "execution_count": 5
      },
      {
         "cell_type": "code",
         "outputs": [],
         "source": [
            "cost_history = result['cost_history']\n",
            "plot_learning_curve(cost_history, result[\"learning_rate\"])"
         ],
         "metadata": {
            "collapsed": false,
            "ExecuteTime": {
               "start_time": "2024-01-07T10:18:21.921945Z"
            }
         },
         "id": "351a8c9b0c1b5766",
         "execution_count": null
      },
      {
         "cell_type": "code",
         "outputs": [],
         "source": [
            "my_images = os.listdir(\"images/\")\n",
            "\n",
            "image_prediction = np.array([\n",
            "    my_images,\n",
            "    np.zeros(len(my_images), dtype=np.int8),\n",
            "]).T\n",
            "\n",
            "image_frame = pd.DataFrame(image_prediction, columns=['Image Name', \"Prediction\"])\n",
            "image_frame"
         ],
         "metadata": {
            "collapsed": false,
            "ExecuteTime": {
               "start_time": "2024-01-07T10:18:21.923586Z"
            }
         },
         "id": "4ba0e8ab8ad5f80e",
         "execution_count": null
      },
      {
         "cell_type": "code",
         "outputs": [],
         "source": [
            "def predict_image(w, b, image):\n",
            "    image_names = image[\"Image Name\"]\n",
            "    image_path = image_names.apply(lambda x: \"images/\" + x)\n",
            "    convert_image = image_path.map(open_image)\n",
            "    image[\"Prediction\"] = convert_image.map(lambda x: int(np.squeeze(predict_w_b(w, b, x))))\n",
            "    return image\n",
            "\n",
            "def open_image(image_path):\n",
            "    image = np.array(Image.open(image_path).resize((64, 64)))\n",
            "    image = image / 255.\n",
            "    image = image.reshape((1, 64 * 64 * 3)).T\n",
            "    return image\n"
         ],
         "metadata": {
            "collapsed": false,
            "ExecuteTime": {
               "start_time": "2024-01-07T10:18:21.925161Z"
            }
         },
         "id": "7cd32a23af6e9022",
         "execution_count": null
      },
      {
         "cell_type": "code",
         "outputs": [],
         "source": [
            "predict_image(result[\"w\"], result[\"b\"], image_frame)"
         ],
         "metadata": {
            "collapsed": false,
            "ExecuteTime": {
               "start_time": "2024-01-07T10:18:21.926301Z"
            }
         },
         "id": "349d89d85f145dc9",
         "execution_count": null
      },
      {
         "cell_type": "code",
         "outputs": [],
         "source": [],
         "metadata": {
            "collapsed": false,
            "ExecuteTime": {
               "end_time": "2024-01-07T10:18:21.928732Z",
               "start_time": "2024-01-07T10:18:21.927156Z"
            }
         },
         "id": "8b002d3cdbaccfba",
         "execution_count": null
      }
   ],
   "metadata": {
      "kernelspec": {
         "display_name": "Python 3",
         "language": "python",
         "name": "python3"
      },
      "language_info": {
         "codemirror_mode": {
            "name": "ipython",
            "version": 2
         },
         "file_extension": ".py",
         "mimetype": "text/x-python",
         "name": "python",
         "nbconvert_exporter": "python",
         "pygments_lexer": "ipython2",
         "version": "2.7.6"
      }
   },
   "nbformat": 4,
   "nbformat_minor": 5
}