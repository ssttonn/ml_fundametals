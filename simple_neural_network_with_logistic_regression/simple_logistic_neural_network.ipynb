{
 "cells": [
  {
   "cell_type": "code",
   "execution_count": 149,
   "id": "initial_id",
   "metadata": {
    "collapsed": true,
    "ExecuteTime": {
     "end_time": "2024-01-01T13:33:20.566527Z",
     "start_time": "2024-01-01T13:33:20.557074Z"
    }
   },
   "outputs": [],
   "source": [
    "import numpy as np\n",
    "\n",
    "from lr_utils import *\n",
    "import matplotlib.pyplot as plt\n",
    "from helper_functions import plot_learning_curve\n",
    "import pickle\n",
    "import pandas as pd\n",
    "from PIL import Image\n",
    "import os\n"
   ]
  },
  {
   "cell_type": "code",
   "outputs": [],
   "source": [
    "train_set_x_orig, train_set_y, test_set_x_orig, test_set_y, classes = load_dataset()"
   ],
   "metadata": {
    "collapsed": false,
    "ExecuteTime": {
     "end_time": "2024-01-01T13:33:21.484355Z",
     "start_time": "2024-01-01T13:33:21.478035Z"
    }
   },
   "id": "1b7b13b8b0829d65",
   "execution_count": 150
  },
  {
   "cell_type": "code",
   "outputs": [],
   "source": [
    "train_set_x = train_set_x_orig.reshape(train_set_x_orig.shape[0], -1).T\n",
    "test_set_x = test_set_x_orig.reshape(test_set_x_orig.shape[0], -1).T"
   ],
   "metadata": {
    "collapsed": false,
    "ExecuteTime": {
     "end_time": "2024-01-01T13:33:21.688661Z",
     "start_time": "2024-01-01T13:33:21.685809Z"
    }
   },
   "id": "51a8ca76173908c2",
   "execution_count": 151
  },
  {
   "cell_type": "code",
   "outputs": [],
   "source": [
    "train_set_x = train_set_x / 255.0\n",
    "test_set_x = test_set_x / 255.0"
   ],
   "metadata": {
    "collapsed": false,
    "ExecuteTime": {
     "end_time": "2024-01-01T13:33:21.915132Z",
     "start_time": "2024-01-01T13:33:21.904425Z"
    }
   },
   "id": "a2b127eee858240a",
   "execution_count": 152
  },
  {
   "cell_type": "code",
   "outputs": [],
   "source": [
    "def train_model(force_retrain=False):\n",
    "    if force_retrain:\n",
    "        train_result = neural_network_logistic_model(train_set_x, train_set_y, test_set_x, test_set_y, learning_rate=0.005, num_iterations=300000, print_cost=True)\n",
    "    else:\n",
    "        try:\n",
    "            with open('./train_results/train_history.txt', \"rb\") as file_pi:\n",
    "                train_result = pickle.load(file_pi)\n",
    "        except FileNotFoundError:\n",
    "            train_result = neural_network_logistic_model(train_set_x, train_set_y, test_set_x, test_set_y, learning_rate=0.005, num_iterations=300000, print_cost=True)\n",
    "    with open('./train_results/train_history.txt', 'wb') as file_pi:\n",
    "        pickle.dump(result, file_pi)\n",
    "    return train_result\n",
    "\n",
    "result = train_model(force_retrain=False)"
   ],
   "metadata": {
    "collapsed": false,
    "ExecuteTime": {
     "end_time": "2024-01-01T13:33:22.174775Z",
     "start_time": "2024-01-01T13:33:22.160831Z"
    }
   },
   "id": "7292a14748d20d84",
   "execution_count": 153
  },
  {
   "cell_type": "code",
   "outputs": [
    {
     "data": {
      "text/plain": "<Figure size 640x480 with 1 Axes>",
      "image/png": "[encoded data removed]"
     },
     "metadata": {},
     "output_type": "display_data"
    }
   ],
   "source": [
    "cost_history = result['cost_history']\n",
    "plot_learning_curve(cost_history, result[\"learning_rate\"])"
   ],
   "metadata": {
    "collapsed": false,
    "ExecuteTime": {
     "end_time": "2024-01-01T13:33:22.943716Z",
     "start_time": "2024-01-01T13:33:22.859558Z"
    }
   },
   "id": "351a8c9b0c1b5766",
   "execution_count": 154
  },
  {
   "cell_type": "code",
   "outputs": [
    {
     "data": {
      "text/plain": "             Image Name Prediction\n0      dog_picture.jpeg          0\n1     cat_picture2.jpeg          0\n2      cat_picture.jpeg          0\n3    tiger_picture.jpeg          0\n4  leopard_picture.jpeg          0",
      "text/html": "<div>\n<style scoped>\n    .dataframe tbody tr th:only-of-type {\n        vertical-align: middle;\n    }\n\n    .dataframe tbody tr th {\n        vertical-align: top;\n    }\n\n    .dataframe thead th {\n        text-align: right;\n    }\n</style>\n<table border=\"1\" class=\"dataframe\">\n  <thead>\n    <tr style=\"text-align: right;\">\n      <th></th>\n      <th>Image Name</th>\n      <th>Prediction</th>\n    </tr>\n  </thead>\n  <tbody>\n    <tr>\n      <th>0</th>\n      <td>dog_picture.jpeg</td>\n      <td>0</td>\n    </tr>\n    <tr>\n      <th>1</th>\n      <td>cat_picture2.jpeg</td>\n      <td>0</td>\n    </tr>\n    <tr>\n      <th>2</th>\n      <td>cat_picture.jpeg</td>\n      <td>0</td>\n    </tr>\n    <tr>\n      <th>3</th>\n      <td>tiger_picture.jpeg</td>\n      <td>0</td>\n    </tr>\n    <tr>\n      <th>4</th>\n      <td>leopard_picture.jpeg</td>\n      <td>0</td>\n    </tr>\n  </tbody>\n</table>\n</div>"
     },
     "execution_count": 186,
     "metadata": {},
     "output_type": "execute_result"
    }
   ],
   "source": [
    "my_images = os.listdir(\"images/\")\n",
    "\n",
    "image_prediction = np.array([\n",
    "    my_images,\n",
    "    np.zeros(len(my_images), dtype=np.int8),\n",
    "]).T\n",
    "\n",
    "image_frame = pd.DataFrame(image_prediction, columns=['Image Name', \"Prediction\"])\n",
    "image_frame"
   ],
   "metadata": {
    "collapsed": false,
    "ExecuteTime": {
     "end_time": "2024-01-01T13:46:56.229169Z",
     "start_time": "2024-01-01T13:46:56.220645Z"
    }
   },
   "id": "4ba0e8ab8ad5f80e",
   "execution_count": 186
  },
  {
   "cell_type": "code",
   "outputs": [],
   "source": [
    "def predict_image(w, b, image):\n",
    "    image_names = image[\"Image Name\"]\n",
    "    image_path = image_names.apply(lambda x: \"images/\" + x)\n",
    "    convert_image = image_path.map(open_image)\n",
    "    image[\"Prediction\"] = convert_image.map(lambda x: int(np.squeeze(predict_w_b(w, b, x))))\n",
    "    return image\n",
    "\n",
    "def open_image(image_path):\n",
    "    image = np.array(Image.open(image_path).resize((64, 64)))\n",
    "    image = image / 255.\n",
    "    image = image.reshape((1, 64 * 64 * 3)).T\n",
    "    return image\n"
   ],
   "metadata": {
    "collapsed": false,
    "ExecuteTime": {
     "end_time": "2024-01-01T13:50:42.684088Z",
     "start_time": "2024-01-01T13:50:42.674130Z"
    }
   },
   "id": "7cd32a23af6e9022",
   "execution_count": 193
  },
  {
   "cell_type": "code",
   "outputs": [
    {
     "data": {
      "text/plain": "             Image Name  Prediction\n0      dog_picture.jpeg           0\n1     cat_picture2.jpeg           1\n2      cat_picture.jpeg           1\n3    tiger_picture.jpeg           0\n4  leopard_picture.jpeg           0",
      "text/html": "<div>\n<style scoped>\n    .dataframe tbody tr th:only-of-type {\n        vertical-align: middle;\n    }\n\n    .dataframe tbody tr th {\n        vertical-align: top;\n    }\n\n    .dataframe thead th {\n        text-align: right;\n    }\n</style>\n<table border=\"1\" class=\"dataframe\">\n  <thead>\n    <tr style=\"text-align: right;\">\n      <th></th>\n      <th>Image Name</th>\n      <th>Prediction</th>\n    </tr>\n  </thead>\n  <tbody>\n    <tr>\n      <th>0</th>\n      <td>dog_picture.jpeg</td>\n      <td>0</td>\n    </tr>\n    <tr>\n      <th>1</th>\n      <td>cat_picture2.jpeg</td>\n      <td>1</td>\n    </tr>\n    <tr>\n      <th>2</th>\n      <td>cat_picture.jpeg</td>\n      <td>1</td>\n    </tr>\n    <tr>\n      <th>3</th>\n      <td>tiger_picture.jpeg</td>\n      <td>0</td>\n    </tr>\n    <tr>\n      <th>4</th>\n      <td>leopard_picture.jpeg</td>\n      <td>0</td>\n    </tr>\n  </tbody>\n</table>\n</div>"
     },
     "execution_count": 194,
     "metadata": {},
     "output_type": "execute_result"
    }
   ],
   "source": [
    "predict_image(result[\"w\"], result[\"b\"], image_frame)"
   ],
   "metadata": {
    "collapsed": false,
    "ExecuteTime": {
     "end_time": "2024-01-01T13:50:43.423193Z",
     "start_time": "2024-01-01T13:50:43.251899Z"
    }
   },
   "id": "349d89d85f145dc9",
   "execution_count": 194
  },
  {
   "cell_type": "code",
   "outputs": [],
   "source": [],
   "metadata": {
    "collapsed": false,
    "ExecuteTime": {
     "end_time": "2024-01-01T13:15:33.070613Z",
     "start_time": "2024-01-01T13:15:32.961728Z"
    }
   },
   "id": "8b002d3cdbaccfba",
   "execution_count": 102
  }
 ],
 "metadata": {
  "kernelspec": {
   "display_name": "Python 3",
   "language": "python",
   "name": "python3"
  },
  "language_info": {
   "codemirror_mode": {
    "name": "ipython",
    "version": 2
   },
   "file_extension": ".py",
   "mimetype": "text/x-python",
   "name": "python",
   "nbconvert_exporter": "python",
   "pygments_lexer": "ipython2",
   "version": "2.7.6"
  }
 },
 "nbformat": 4,
 "nbformat_minor": 5
}
