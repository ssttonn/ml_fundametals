{
 "cells": [
  {
   "cell_type": "code",
   "execution_count": 17,
   "id": "initial_id",
   "metadata": {
    "collapsed": true,
    "ExecuteTime": {
     "end_time": "2024-01-02T15:03:51.579582Z",
     "start_time": "2024-01-02T15:03:51.574641Z"
    }
   },
   "outputs": [],
   "source": [
    "import numpy as np\n",
    "\n",
    "from lr_utils import *\n",
    "import matplotlib.pyplot as plt\n",
    "from helper_functions import plot_learning_curve\n",
    "import pickle\n",
    "import json\n",
    "import pandas as pd\n",
    "from PIL import Image\n",
    "import os\n"
   ]
  },
  {
   "cell_type": "code",
   "outputs": [],
   "source": [
    "train_set_x_orig, train_set_y, test_set_x_orig, test_set_y, classes = load_dataset()"
   ],
   "metadata": {
    "collapsed": false,
    "ExecuteTime": {
     "end_time": "2024-01-02T15:03:51.586325Z",
     "start_time": "2024-01-02T15:03:51.578877Z"
    }
   },
   "id": "1b7b13b8b0829d65",
   "execution_count": 18
  },
  {
   "cell_type": "code",
   "outputs": [],
   "source": [
    "train_set_x = train_set_x_orig.reshape(train_set_x_orig.shape[0], -1).T\n",
    "test_set_x = test_set_x_orig.reshape(test_set_x_orig.shape[0], -1).T"
   ],
   "metadata": {
    "collapsed": false,
    "ExecuteTime": {
     "end_time": "2024-01-02T15:03:51.587007Z",
     "start_time": "2024-01-02T15:03:51.584583Z"
    }
   },
   "id": "51a8ca76173908c2",
   "execution_count": 19
  },
  {
   "cell_type": "code",
   "outputs": [],
   "source": [
    "train_set_x = train_set_x / 255.0\n",
    "test_set_x = test_set_x / 255.0"
   ],
   "metadata": {
    "collapsed": false,
    "ExecuteTime": {
     "end_time": "2024-01-02T15:03:51.599765Z",
     "start_time": "2024-01-02T15:03:51.587400Z"
    }
   },
   "id": "a2b127eee858240a",
   "execution_count": 20
  },
  {
   "cell_type": "code",
   "execution_count": 20,
   "outputs": [],
   "source": [],
   "metadata": {
    "collapsed": false,
    "ExecuteTime": {
     "end_time": "2024-01-02T15:03:51.600010Z",
     "start_time": "2024-01-02T15:03:51.594892Z"
    }
   },
   "id": "3cb7becab736b9e3"
  },
  {
   "cell_type": "code",
   "outputs": [],
   "source": [
    "def train_model(force_retrain=False):\n",
    "    if force_retrain:\n",
    "        train_result = neural_network_logistic_model(train_set_x, train_set_y, test_set_x, test_set_y, learning_rate=0.005, num_iterations=100000, print_cost=True)\n",
    "    else:\n",
    "        try:\n",
    "            with open('./train_results/train_result', \"rb\") as file_pi:\n",
    "                train_result = pickle.load(file_pi)\n",
    "        except FileNotFoundError:\n",
    "            train_result = neural_network_logistic_model(train_set_x, train_set_y, test_set_x, test_set_y, learning_rate=0.005, num_iterations=100000, print_cost=True)\n",
    "    with open('./train_results/train_result', 'wb') as file_pi:\n",
    "        pickle.dump(train_result, file_pi)\n",
    "    return train_result\n",
    "\n",
    "result = train_model(force_retrain=False)"
   ],
   "metadata": {
    "collapsed": false,
    "ExecuteTime": {
     "end_time": "2024-01-02T15:08:25.062573Z",
     "start_time": "2024-01-02T15:08:25.057890Z"
    }
   },
   "id": "7292a14748d20d84",
   "execution_count": 31
  },
  {
   "cell_type": "code",
   "outputs": [
    {
     "data": {
      "text/plain": "<Figure size 640x480 with 1 Axes>",
      "image/png": "[encoded data removed]"
     },
     "metadata": {},
     "output_type": "display_data"
    }
   ],
   "source": [
    "cost_history = result['cost_history']\n",
    "plot_learning_curve(cost_history, result[\"learning_rate\"])"
   ],
   "metadata": {
    "collapsed": false,
    "ExecuteTime": {
     "end_time": "2024-01-02T15:08:26.325058Z",
     "start_time": "2024-01-02T15:08:26.238727Z"
    }
   },
   "id": "351a8c9b0c1b5766",
   "execution_count": 32
  },
  {
   "cell_type": "code",
   "outputs": [
    {
     "data": {
      "text/plain": "             Image Name Prediction\n0      dog_picture.jpeg          0\n1     cat_picture2.jpeg          0\n2      cat_picture.jpeg          0\n3    tiger_picture.jpeg          0\n4  leopard_picture.jpeg          0",
      "text/html": "<div>\n<style scoped>\n    .dataframe tbody tr th:only-of-type {\n        vertical-align: middle;\n    }\n\n    .dataframe tbody tr th {\n        vertical-align: top;\n    }\n\n    .dataframe thead th {\n        text-align: right;\n    }\n</style>\n<table border=\"1\" class=\"dataframe\">\n  <thead>\n    <tr style=\"text-align: right;\">\n      <th></th>\n      <th>Image Name</th>\n      <th>Prediction</th>\n    </tr>\n  </thead>\n  <tbody>\n    <tr>\n      <th>0</th>\n      <td>dog_picture.jpeg</td>\n      <td>0</td>\n    </tr>\n    <tr>\n      <th>1</th>\n      <td>cat_picture2.jpeg</td>\n      <td>0</td>\n    </tr>\n    <tr>\n      <th>2</th>\n      <td>cat_picture.jpeg</td>\n      <td>0</td>\n    </tr>\n    <tr>\n      <th>3</th>\n      <td>tiger_picture.jpeg</td>\n      <td>0</td>\n    </tr>\n    <tr>\n      <th>4</th>\n      <td>leopard_picture.jpeg</td>\n      <td>0</td>\n    </tr>\n  </tbody>\n</table>\n</div>"
     },
     "execution_count": 33,
     "metadata": {},
     "output_type": "execute_result"
    }
   ],
   "source": [
    "my_images = os.listdir(\"images/\")\n",
    "\n",
    "image_prediction = np.array([\n",
    "    my_images,\n",
    "    np.zeros(len(my_images), dtype=np.int8),\n",
    "]).T\n",
    "\n",
    "image_frame = pd.DataFrame(image_prediction, columns=['Image Name', \"Prediction\"])\n",
    "image_frame"
   ],
   "metadata": {
    "collapsed": false,
    "ExecuteTime": {
     "end_time": "2024-01-02T15:08:29.541317Z",
     "start_time": "2024-01-02T15:08:29.536834Z"
    }
   },
   "id": "4ba0e8ab8ad5f80e",
   "execution_count": 33
  },
  {
   "cell_type": "code",
   "outputs": [],
   "source": [
    "def predict_image(w, b, image):\n",
    "    image_names = image[\"Image Name\"]\n",
    "    image_path = image_names.apply(lambda x: \"images/\" + x)\n",
    "    convert_image = image_path.map(open_image)\n",
    "    image[\"Prediction\"] = convert_image.map(lambda x: int(np.squeeze(predict_w_b(w, b, x))))\n",
    "    return image\n",
    "\n",
    "def open_image(image_path):\n",
    "    image = np.array(Image.open(image_path).resize((64, 64)))\n",
    "    image = image / 255.\n",
    "    image = image.reshape((1, 64 * 64 * 3)).T\n",
    "    return image\n"
   ],
   "metadata": {
    "collapsed": false,
    "ExecuteTime": {
     "end_time": "2024-01-02T15:08:30.504715Z",
     "start_time": "2024-01-02T15:08:30.497740Z"
    }
   },
   "id": "7cd32a23af6e9022",
   "execution_count": 34
  },
  {
   "cell_type": "code",
   "outputs": [
    {
     "data": {
      "text/plain": "             Image Name  Prediction\n0      dog_picture.jpeg           0\n1     cat_picture2.jpeg           1\n2      cat_picture.jpeg           1\n3    tiger_picture.jpeg           0\n4  leopard_picture.jpeg           0",
      "text/html": "<div>\n<style scoped>\n    .dataframe tbody tr th:only-of-type {\n        vertical-align: middle;\n    }\n\n    .dataframe tbody tr th {\n        vertical-align: top;\n    }\n\n    .dataframe thead th {\n        text-align: right;\n    }\n</style>\n<table border=\"1\" class=\"dataframe\">\n  <thead>\n    <tr style=\"text-align: right;\">\n      <th></th>\n      <th>Image Name</th>\n      <th>Prediction</th>\n    </tr>\n  </thead>\n  <tbody>\n    <tr>\n      <th>0</th>\n      <td>dog_picture.jpeg</td>\n      <td>0</td>\n    </tr>\n    <tr>\n      <th>1</th>\n      <td>cat_picture2.jpeg</td>\n      <td>1</td>\n    </tr>\n    <tr>\n      <th>2</th>\n      <td>cat_picture.jpeg</td>\n      <td>1</td>\n    </tr>\n    <tr>\n      <th>3</th>\n      <td>tiger_picture.jpeg</td>\n      <td>0</td>\n    </tr>\n    <tr>\n      <th>4</th>\n      <td>leopard_picture.jpeg</td>\n      <td>0</td>\n    </tr>\n  </tbody>\n</table>\n</div>"
     },
     "execution_count": 35,
     "metadata": {},
     "output_type": "execute_result"
    }
   ],
   "source": [
    "predict_image(result[\"w\"], result[\"b\"], image_frame)"
   ],
   "metadata": {
    "collapsed": false,
    "ExecuteTime": {
     "end_time": "2024-01-02T15:08:31.402747Z",
     "start_time": "2024-01-02T15:08:31.263036Z"
    }
   },
   "id": "349d89d85f145dc9",
   "execution_count": 35
  },
  {
   "cell_type": "code",
   "outputs": [],
   "source": [],
   "metadata": {
    "collapsed": false,
    "ExecuteTime": {
     "start_time": "2024-01-02T15:03:54.717707Z"
    }
   },
   "id": "8b002d3cdbaccfba",
   "execution_count": null
  }
 ],
 "metadata": {
  "kernelspec": {
   "display_name": "Python 3",
   "language": "python",
   "name": "python3"
  },
  "language_info": {
   "codemirror_mode": {
    "name": "ipython",
    "version": 2
   },
   "file_extension": ".py",
   "mimetype": "text/x-python",
   "name": "python",
   "nbconvert_exporter": "python",
   "pygments_lexer": "ipython2",
   "version": "2.7.6"
  }
 },
 "nbformat": 4,
 "nbformat_minor": 5
}
