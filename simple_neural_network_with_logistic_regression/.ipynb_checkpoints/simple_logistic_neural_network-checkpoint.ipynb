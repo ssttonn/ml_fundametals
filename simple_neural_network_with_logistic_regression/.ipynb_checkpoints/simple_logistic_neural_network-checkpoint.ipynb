{
 "cells": [
  {
   "cell_type": "code",
   "execution_count": 13,
   "id": "initial_id",
   "metadata": {
    "collapsed": true,
    "ExecuteTime": {
     "end_time": "2024-01-01T12:21:15.343933Z",
     "start_time": "2024-01-01T12:21:15.339551Z"
    }
   },
   "outputs": [],
   "source": [
    "import numpy\n",
    "from lr_utils import *"
   ]
  },
  {
   "cell_type": "code",
   "outputs": [],
   "source": [
    "train_set_x_orig, train_set_y, test_set_x_orig, test_set_y, classes = load_dataset()"
   ],
   "metadata": {
    "collapsed": false,
    "ExecuteTime": {
     "end_time": "2024-01-01T12:21:15.358345Z",
     "start_time": "2024-01-01T12:21:15.346809Z"
    }
   },
   "id": "1b7b13b8b0829d65",
   "execution_count": 14
  },
  {
   "cell_type": "code",
   "outputs": [],
   "source": [
    "train_set_x = train_set_x_orig.reshape(train_set_x_orig.shape[0], -1).T\n",
    "test_set_x = test_set_x_orig.reshape(test_set_x_orig.shape[0], -1).T"
   ],
   "metadata": {
    "collapsed": false,
    "ExecuteTime": {
     "end_time": "2024-01-01T12:21:15.358690Z",
     "start_time": "2024-01-01T12:21:15.355106Z"
    }
   },
   "id": "51a8ca76173908c2",
   "execution_count": 15
  },
  {
   "cell_type": "code",
   "outputs": [],
   "source": [
    "train_set_x = train_set_x / 255.0\n",
    "test_set_x = test_set_x / 255.0"
   ],
   "metadata": {
    "collapsed": false,
    "ExecuteTime": {
     "end_time": "2024-01-01T12:21:15.373841Z",
     "start_time": "2024-01-01T12:21:15.361759Z"
    }
   },
   "id": "a2b127eee858240a",
   "execution_count": 16
  },
  {
   "cell_type": "code",
   "outputs": [
    {
     "ename": "TypeError",
     "evalue": "cannot unpack non-iterable NoneType object",
     "output_type": "error",
     "traceback": [
      "\u001B[0;31m---------------------------------------------------------------------------\u001B[0m",
      "\u001B[0;31mTypeError\u001B[0m                                 Traceback (most recent call last)",
      "Cell \u001B[0;32mIn[17], line 1\u001B[0m\n\u001B[0;32m----> 1\u001B[0m Y_hat_train, Y_hat_test \u001B[38;5;241m=\u001B[39m neural_network_logistic_model(train_set_x, train_set_y, test_set_x, test_set_y, learning_rate\u001B[38;5;241m=\u001B[39m\u001B[38;5;241m0.01\u001B[39m, num_iterations\u001B[38;5;241m=\u001B[39m\u001B[38;5;241m2000\u001B[39m, print_cost\u001B[38;5;241m=\u001B[39m\u001B[38;5;28;01mFalse\u001B[39;00m)\n",
      "\u001B[0;31mTypeError\u001B[0m: cannot unpack non-iterable NoneType object"
     ]
    }
   ],
   "source": [
    "Y_hat_train, Y_hat_test = neural_network_logistic_model(train_set_x, train_set_y, test_set_x, test_set_y, learning_rate=0.01, num_iterations=2000, print_cost=False)"
   ],
   "metadata": {
    "collapsed": false,
    "ExecuteTime": {
     "end_time": "2024-01-01T12:21:17.700826Z",
     "start_time": "2024-01-01T12:21:15.400106Z"
    }
   },
   "id": "7292a14748d20d84",
   "execution_count": 17
  },
  {
   "cell_type": "code",
   "outputs": [],
   "source": [],
   "metadata": {
    "collapsed": false,
    "ExecuteTime": {
     "end_time": "2024-01-01T12:21:17.717298Z",
     "start_time": "2024-01-01T12:21:17.710967Z"
    }
   },
   "id": "80d327650a2564fb",
   "execution_count": null
  },
  {
   "cell_type": "code",
   "outputs": [],
   "source": [],
   "metadata": {
    "collapsed": false,
    "ExecuteTime": {
     "start_time": "2024-01-01T12:21:17.716857Z"
    }
   },
   "id": "d3a6611f286bcf1a",
   "execution_count": null
  }
 ],
 "metadata": {
  "kernelspec": {
   "display_name": "Python 3",
   "language": "python",
   "name": "python3"
  },
  "language_info": {
   "codemirror_mode": {
    "name": "ipython",
    "version": 2
   },
   "file_extension": ".py",
   "mimetype": "text/x-python",
   "name": "python",
   "nbconvert_exporter": "python",
   "pygments_lexer": "ipython2",
   "version": "2.7.6"
  }
 },
 "nbformat": 4,
 "nbformat_minor": 5
}
