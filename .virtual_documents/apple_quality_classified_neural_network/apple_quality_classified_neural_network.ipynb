import sys  
sys.path.insert(1, '../')

import pandas as pd
import numpy as np
import matplotlib.pyplot as plt
from utils import input_output_layer_sizes, predict, nn_model, tanh, sigmoid, leaky_relu, relu, linear, randomly_initialize_parameters, metrics


df = pd.read_csv("../dataset/apple_quality.csv")
df


# Plot data 
plt.scatter(df["Sweetness"], df["Ripeness"], c=df["Quality"] == "good")


X_df = df.iloc[:, 1:-1]
y_df = df.iloc[:, -1]
y_df = y_df == "good"

X = X_df.values
y = y_df.values


from sklearn.model_selection import StratifiedShuffleSplit

sss = StratifiedShuffleSplit(test_size=0.3, random_state=42, n_splits=1)

for train_index, test_index in sss.split(X, y):
    X_train, X_test = X[train_index], X[test_index]
    y_train, y_test = y[train_index], y[test_index]
    
sss = StratifiedShuffleSplit(test_size=0.5, random_state=42, n_splits=1)

for test_index, dev_index in sss.split(X_test, y_test):
    X_test, X_dev = X[test_index], X[dev_index]
    y_test, y_dev = y[test_index], y[dev_index]



X_train = X_train.T
y_train = y_train.reshape(1, -1)

X_test = X_test.T
y_test = y_test.reshape(1, -1)

X_dev = X_dev.T
y_dev = y_dev.reshape(1, -1)


import pickle


n_x, n_y = input_output_layer_sizes(X_train, y_train)
layer_dims = [n_x, 30, 30, 30, 30, 30, 30, 30, 30, 30, 30, 30, n_y]
activations = [relu, tanh, leaky_relu, tanh, tanh, relu, relu,  tanh, leaky_relu, tanh, relu, sigmoid]
parameters = randomly_initialize_parameters(layer_dims)

# try:
#     fp = open('parameters.pkl', 'rb')
#     parameters = pickle.load(fp)
# except SystemError:
#     parameters = randomly_initialize_parameters(layer_dims)

parameters, costs = nn_model(X_train, y_train, layer_sizes=layer_dims, parameters= parameters, activations=activations, print_cost=True, number_of_iterations=40000, learning_rate=0.075)
parameters


# save dictionary to person_data.pkl file
with open('parameters.pkl', 'wb') as fp:
    pickle.dump(parameters, fp)
    print('Parameters saved successfully to file')


from helper_functions import plot_learning_curve

plot_learning_curve(costs, 0.75)


# Print train accuracy
train_predictions = predict(parameters, activations, X_train, decision_rate=0.5)

metrics(y_train, train_predictions, len(activations))

train_error = (y == train_predictions).T
train_error[train_error == False]


# Print dev accuracy
dev_predictions = predict(parameters, activations, X_dev, decision_rate=0.5)

metrics(y_dev, dev_predictions, len(activations))

dev_error = (y == dev_predictions).T
dev_error[dev_error == False]



