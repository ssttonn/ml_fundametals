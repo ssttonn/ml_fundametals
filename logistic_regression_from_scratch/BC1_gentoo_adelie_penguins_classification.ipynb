{
 "cells": [
  {
   "cell_type": "code",
   "execution_count": null,
   "id": "initial_id",
   "metadata": {
    "collapsed": true,
    "ExecuteTime": {
     "end_time": "2024-01-04T05:16:06.055679Z",
     "start_time": "2024-01-04T05:16:06.045728Z"
    }
   },
   "outputs": [],
   "source": [
    "import copy\n",
    "\n",
    "import numpy as np\n",
    "import pandas as pd\n",
    "from logistic_regression_helpers import logistic_regression_model, sigmoid\n",
    "import pickle\n",
    "from helper_functions import plot_learning_curve"
   ]
  },
  {
   "cell_type": "code",
   "execution_count": null,
   "outputs": [],
   "source": [
    "penguins_data = pd.read_csv(\"dataset/penguins_binary_classification.csv\")\n",
    "penguins_data.shape"
   ],
   "metadata": {
    "collapsed": false,
    "ExecuteTime": {
     "start_time": "2024-01-04T05:16:06.047024Z"
    }
   },
   "id": "64551c8dd4dc27e7"
  },
  {
   "cell_type": "code",
   "execution_count": null,
   "outputs": [],
   "source": [
    "penguins_data.describe(include=\"all\")"
   ],
   "metadata": {
    "collapsed": false,
    "ExecuteTime": {
     "start_time": "2024-01-04T05:16:06.048183Z"
    }
   },
   "id": "938f7d4cfdd7e043"
  },
  {
   "cell_type": "code",
   "execution_count": null,
   "outputs": [],
   "source": [
    "penguins_data.info()"
   ],
   "metadata": {
    "collapsed": false,
    "ExecuteTime": {
     "start_time": "2024-01-04T05:16:06.049344Z"
    }
   },
   "id": "928f54b38e181c1d"
  },
  {
   "cell_type": "code",
   "execution_count": null,
   "outputs": [],
   "source": [
    "penguins_data[\"species\"].value_counts()"
   ],
   "metadata": {
    "collapsed": false,
    "ExecuteTime": {
     "start_time": "2024-01-04T05:16:06.050759Z"
    }
   },
   "id": "36b26fd2c9bc87f9"
  },
  {
   "cell_type": "code",
   "execution_count": null,
   "outputs": [],
   "source": [
    "penguins_data_train = copy.deepcopy(penguins_data)\n",
    "\n",
    "penguins_data_train[\"island\"] = penguins_data[\"island\"].replace(\n",
    "    [\"Biscoe\", \"Dream\", \"Torgersen\"],\n",
    "    [0, 1, 2]\n",
    ")\n",
    "penguins_data_train[\"species\"] = penguins_data[\"species\"].replace(\n",
    "    [\"Adelie\", \"Gentoo\"],\n",
    "    [0, 1]\n",
    ")\n",
    "penguins_data_train"
   ],
   "metadata": {
    "collapsed": false,
    "ExecuteTime": {
     "start_time": "2024-01-04T05:16:06.052166Z"
    }
   },
   "id": "5c41d8d6acb35e86"
  },
  {
   "cell_type": "code",
   "execution_count": null,
   "outputs": [],
   "source": [
    "X = penguins_data_train.iloc[:, 1:]\n",
    "y = penguins_data_train.iloc[:, 0]\n",
    "\n",
    "from sklearn.model_selection import train_test_split\n",
    "# \n",
    "X_train, X_test, y_train, y_test = train_test_split(X, y, test_size=0.2,random_state=42)"
   ],
   "metadata": {
    "collapsed": false,
    "ExecuteTime": {
     "start_time": "2024-01-04T05:16:06.054112Z"
    }
   },
   "id": "1478505cfe397d7d"
  },
  {
   "cell_type": "code",
   "execution_count": null,
   "outputs": [],
   "source": [
    "X_train"
   ],
   "metadata": {
    "collapsed": false,
    "ExecuteTime": {
     "start_time": "2024-01-04T05:16:06.055573Z"
    }
   },
   "id": "9c61d6e9123019dc"
  },
  {
   "cell_type": "code",
   "execution_count": null,
   "outputs": [],
   "source": [
    "def train_model(force_retrain=False):\n",
    "    if force_retrain:\n",
    "        train_result = logistic_regression_model(X_train, y_train, X_test, y_test, learning_rate=0.00000145, num_iterations=200000, print_cost=True)\n",
    "    else:\n",
    "        try:\n",
    "            with open('./train_results/BC1_gentoo_adelie_penguins_result', \"rb\") as file_pi:\n",
    "                train_result = pickle.load(file_pi)\n",
    "        except FileNotFoundError:\n",
    "            train_result = logistic_regression_model(X_train, y_train, X_test, y_test, learning_rate=0.00000145, num_iterations=200000, print_cost=True)\n",
    "    with open('./train_results/BC1_gentoo_adelie_penguins_result', 'wb') as file_pi:\n",
    "        pickle.dump(train_result, file_pi)\n",
    "    return train_result\n",
    "\n",
    "result = train_model(force_retrain=False)"
   ],
   "metadata": {
    "collapsed": false,
    "ExecuteTime": {
     "start_time": "2024-01-04T05:16:06.056401Z"
    }
   },
   "id": "d37be07334a8c6d1"
  },
  {
   "cell_type": "code",
   "execution_count": null,
   "outputs": [],
   "source": [
    "cost_history = result['cost_history']\n",
    "plot_learning_curve(cost_history, result[\"learning_rate\"])"
   ],
   "metadata": {
    "collapsed": false,
    "ExecuteTime": {
     "start_time": "2024-01-04T05:16:06.057187Z"
    }
   },
   "id": "5f7314cfb242d90b"
  },
  {
   "cell_type": "code",
   "execution_count": null,
   "outputs": [],
   "source": [
    "cost_history"
   ],
   "metadata": {
    "collapsed": false,
    "ExecuteTime": {
     "start_time": "2024-01-04T05:16:06.058010Z"
    }
   },
   "id": "b103913c6bc45e7a"
  },
  {
   "cell_type": "code",
   "execution_count": null,
   "outputs": [],
   "source": [
    "import seaborn as sns\n",
    "import matplotlib.pyplot as plt\n",
    "check = pd.DataFrame({'Actual' : y_test, 'Predicted' : result[\"Y_hat_test\"]})\n",
    "\n",
    "sns.scatterplot(check)\n",
    "plt.legend()\n",
    "\n",
    "plt.show()"
   ],
   "metadata": {
    "collapsed": false,
    "ExecuteTime": {
     "start_time": "2024-01-04T05:16:06.058675Z"
    }
   },
   "id": "7adc9dfb9283cebd"
  },
  {
   "cell_type": "code",
   "execution_count": null,
   "outputs": [],
   "source": [],
   "metadata": {
    "collapsed": false,
    "ExecuteTime": {
     "start_time": "2024-01-04T05:16:06.059379Z"
    }
   },
   "id": "2e40af6ac6d404a3"
  }
 ],
 "metadata": {
  "kernelspec": {
   "display_name": "Python 3",
   "language": "python",
   "name": "python3"
  },
  "language_info": {
   "codemirror_mode": {
    "name": "ipython",
    "version": 2
   },
   "file_extension": ".py",
   "mimetype": "text/x-python",
   "name": "python",
   "nbconvert_exporter": "python",
   "pygments_lexer": "ipython2",
   "version": "2.7.6"
  }
 },
 "nbformat": 4,
 "nbformat_minor": 5
}
